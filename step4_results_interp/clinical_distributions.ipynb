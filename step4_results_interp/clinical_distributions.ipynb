{
 "cells": [
  {
   "cell_type": "markdown",
   "id": "f9f82199-fdc0-409c-85fb-cbb3f3229e2e",
   "metadata": {},
   "source": [
    "# Data Distributions"
   ]
  },
  {
   "cell_type": "markdown",
   "id": "2f73b7fa-64c3-4e30-86e2-b86d298dff23",
   "metadata": {},
   "source": [
    "## Setup"
   ]
  },
  {
   "cell_type": "code",
   "execution_count": null,
   "id": "initial_id",
   "metadata": {},
   "outputs": [],
   "source": [
    "from pathlib import Path\n",
    "\n",
    "import numpy as np\n",
    "import pandas as pd\n",
    "\n",
    "from matplotlib import pyplot as plt\n",
    "import seaborn as sns\n",
    "\n",
    "np.random.seed(707260)\n",
    "\n",
    "# Point this to your directory\n",
    "clinical_path = Path(\"../step2_prep_data/a_clinical_data/clinical_metrics/full_data.tsv\")"
   ]
  },
  {
   "cell_type": "code",
   "execution_count": null,
   "id": "30e94423-ada1-4081-b7cb-4d39a0e677d1",
   "metadata": {},
   "outputs": [],
   "source": [
    "clinical_df = pd.read_csv(clinical_path, sep='\\t').set_index('GRP')"
   ]
  },
  {
   "cell_type": "code",
   "execution_count": null,
   "id": "2252db51-e0d5-4e46-9224-40a3225d75a5",
   "metadata": {},
   "outputs": [],
   "source": [
    "clinical_df"
   ]
  },
  {
   "cell_type": "markdown",
   "id": "92c8ace3-112f-4542-af19-e4036167b0ab",
   "metadata": {},
   "source": [
    "## Target Metrics"
   ]
  },
  {
   "cell_type": "code",
   "execution_count": null,
   "id": "7441bab9-ba33-410e-8d08-fee5028fe0ab",
   "metadata": {},
   "outputs": [],
   "source": [
    "# Generate a sub-dataframe to isolate the \"labelling\" metrics\n",
    "mjoa_initial_key = 'mJOA initial'\n",
    "mjoa_1year_key = 'mJOA 12 months'\n",
    "hrr_key = 'HRR'\n",
    "recovery_key = 'Recovery Class'\n",
    "mjoa_df = clinical_df.loc[:, [mjoa_initial_key, mjoa_1year_key, hrr_key, recovery_key]]\n",
    "\n",
    "# DCM Severity labelling (Initial)\n",
    "mjoa_initial_class_key = \"DCM Severity (initial)\"\n",
    "mjoa_df[mjoa_initial_class_key] = 'Severe'\n",
    "mjoa_df.loc[mjoa_df[mjoa_initial_key] > 11, mjoa_initial_class_key] = 'Moderate'\n",
    "mjoa_df.loc[mjoa_df[mjoa_initial_key] > 14, mjoa_initial_class_key] = 'Mild'\n",
    "mjoa_df.loc[mjoa_df[mjoa_initial_key] > 17, mjoa_initial_class_key] = 'Healthy'\n",
    "\n",
    "# DCM Severity labelling (1-Year)\n",
    "\n",
    "mjoa_1year_class_key = \"DCM Severity (1 year)\"\n",
    "mjoa_df[mjoa_1year_class_key] = 'Severe'\n",
    "mjoa_df.loc[mjoa_df[mjoa_1year_key] > 11, mjoa_1year_class_key] = 'Moderate'\n",
    "mjoa_df.loc[mjoa_df[mjoa_1year_key] > 14, mjoa_1year_class_key] = 'Mild'\n",
    "mjoa_df.loc[mjoa_df[mjoa_1year_key] > 17, mjoa_1year_class_key] = 'Healthy'\n",
    "\n",
    "# DCM Delta Labelling (Initial -> 1 Year)\n",
    "mjoa_delta_key = 'mJOA Delta'\n",
    "mjoa_df[mjoa_delta_key] = mjoa_df[mjoa_1year_key] - mjoa_df[mjoa_initial_key]\n",
    "\n",
    "mjoa_delta_class_key = 'DCM Improvement (Initial -> 1 Year)'\n",
    "mjoa_df[mjoa_delta_class_key] = 'Static'\n",
    "mjoa_df.loc[mjoa_df[mjoa_delta_key] > 0, mjoa_delta_class_key] = 'Improved'\n",
    "mjoa_df.loc[mjoa_df[mjoa_delta_key] < 0, mjoa_delta_class_key] = 'Declined'\n",
    "mjoa_df"
   ]
  },
  {
   "cell_type": "markdown",
   "id": "035401e5-3719-4da4-9158-541c41b64d55",
   "metadata": {},
   "source": [
    "### mJOA"
   ]
  },
  {
   "cell_type": "markdown",
   "id": "024dab5b-4001-4d39-b7d1-bd7159a058be",
   "metadata": {},
   "source": [
    "#### Prep "
   ]
  },
  {
   "cell_type": "code",
   "execution_count": null,
   "id": "3b3f1a41-274b-4057-aadb-5a61400764bb",
   "metadata": {},
   "outputs": [],
   "source": [
    "def plot_distributions(data, cmap, legend_elements, xlabel, title, mean_offset=0, flip_mean_rot=False):\n",
    "    # Get the appropriate ranges for the data\n",
    "    min_range = int(np.min(data))-1\n",
    "    max_range = int(np.max(data))+1\n",
    "    \n",
    "    # Bin the data\n",
    "    hist, bins = np.histogram(\n",
    "        data, \n",
    "        np.array(range(min_range, max_range))+.1\n",
    "    )\n",
    "    \n",
    "    # Generate the figure\n",
    "    fig, ax = plt.subplots()\n",
    "        \n",
    "    # Iteratively color code the bars\n",
    "    for t, c in cmap.items():\n",
    "        mask = bins < t\n",
    "        to_display = np.array(range(min_range, t))+0.5\n",
    "        vals = hist[mask[:-1]]\n",
    "        ax.bar(\n",
    "            to_display, vals,\n",
    "            width=1, color=c,\n",
    "            align='edge',\n",
    "            edgecolor='black'\n",
    "        )\n",
    "        \n",
    "    # Add a mean line\n",
    "    data_mean = np.mean(data)\n",
    "    ax.axvline(data_mean, ls='--', c='black')\n",
    "    if flip_mean_rot:\n",
    "        ax.text(data_mean-0.5, ax.get_ylim()[1]-mean_offset, f\"Mean ({data_mean:.4})\", rotation=90)\n",
    "    else:\n",
    "        ax.text(data_mean+0.05, ax.get_ylim()[1]-mean_offset, f\"Mean ({data_mean:.4})\", rotation=-90)\n",
    "        \n",
    "    # Add in the legend\n",
    "    ax.legend(handles=legend_elements)\n",
    "    \n",
    "    # Add in labels\n",
    "    ax.set_xlabel(xlabel)\n",
    "    ax.set_ylabel('Count')\n",
    "    ax.set_title(title)\n",
    "    \n",
    "    # Return the figure and axis\n",
    "    return fig, ax"
   ]
  },
  {
   "cell_type": "code",
   "execution_count": null,
   "id": "16ed10b2-436e-4e85-a684-301079c87f85",
   "metadata": {},
   "outputs": [],
   "source": [
    "# Limits so that all plots have consistent range\n",
    "xlim_min = int(np.min([*clinical_df['mJOA initial'], *clinical_df['mJOA 12 months']]))-1\n",
    "xlim_max = int(np.max([*clinical_df['mJOA initial'], *clinical_df['mJOA 12 months']]))+1\n",
    "\n",
    "ylim_min = 0\n",
    "ylim_max = int(np.max([\n",
    "    *np.histogram(clinical_df['mJOA initial'], np.array(range(xlim_min, xlim_max))+.1)[0],\n",
    "    *np.histogram(clinical_df['mJOA 12 months'], np.array(range(xlim_min, xlim_max))+.1)[0]\n",
    "]))+5"
   ]
  },
  {
   "cell_type": "code",
   "execution_count": null,
   "id": "725180a6da6139cb",
   "metadata": {},
   "outputs": [],
   "source": [
    "# Generate the output path for plot files if it doesn't exist\n",
    "mjoa_dist_out_path = Path('figures/mjoa_dist')\n",
    "if not mjoa_dist_out_path.exists():\n",
    "    mjoa_dist_out_path.mkdir(parents=True)"
   ]
  },
  {
   "cell_type": "markdown",
   "id": "2c6114a1-eb1e-44dc-9517-3af2800bef32",
   "metadata": {},
   "source": [
    "#### Initial"
   ]
  },
  {
   "cell_type": "code",
   "execution_count": null,
   "id": "77c9c923-9bd4-4c46-9a03-7d18cba767e6",
   "metadata": {},
   "outputs": [],
   "source": [
    "# Color threshold map\n",
    "severity_cmap = {\n",
    "    18: 'blue',\n",
    "    17: 'green',\n",
    "    14: 'gold',\n",
    "    11: 'red'\n",
    "}\n",
    "\n",
    "# Generate a custom legend\n",
    "from matplotlib.patches import Patch\n",
    "legend_elements = [\n",
    "    Patch(facecolor='red', edgecolor='black', label='Severe'),\n",
    "    Patch(facecolor='gold', edgecolor='black', label='Moderate'),\n",
    "    Patch(facecolor='green', edgecolor='black', label='Mild'),\n",
    "    Patch(facecolor='blue', edgecolor='black', label='Healthy'),\n",
    "]\n",
    "\n",
    "# Plot the data\n",
    "fig, ax = plot_distributions(\n",
    "    mjoa_df[mjoa_initial_key], severity_cmap, legend_elements,\n",
    "    'mJOA', 'Pre-Surgical mJOA Scores', 20\n",
    ")\n",
    "\n",
    "# Plot the total number of each severity class as text\n",
    "severity_counts = mjoa_df[mjoa_initial_class_key].value_counts()\n",
    "ax.text(9, 15, f\"({severity_counts['Severe']})\", c='black', size=12, horizontalalignment='center')\n",
    "ax.text(14, 44.5, f\"({severity_counts['Moderate']})\", c='black', size=12, horizontalalignment='center')\n",
    "ax.text(16, 33, f\"({severity_counts['Mild']})\", c='black', size=12, horizontalalignment='center')\n",
    "ax.text(18, 2.5, f\"({severity_counts['Healthy']})\", c='black', size=12, horizontalalignment='center')\n",
    "\n",
    "# Save and show the result\n",
    "fig.savefig(mjoa_dist_out_path / 'pre_treatment_mjoa.svg')\n",
    "plt.show()"
   ]
  },
  {
   "cell_type": "markdown",
   "id": "b80eb647-9716-4311-97e1-0d1af55ac9aa",
   "metadata": {},
   "source": [
    "#### 1-Year"
   ]
  },
  {
   "cell_type": "code",
   "execution_count": null,
   "id": "b56ed025-d14b-47ac-a36a-a331e5d4db8c",
   "metadata": {},
   "outputs": [],
   "source": [
    "# Color threshold map\n",
    "severity_cmap = {\n",
    "    18: 'blue',\n",
    "    17: 'green',\n",
    "    14: 'gold',\n",
    "    11: 'red'\n",
    "}\n",
    "\n",
    "# Generate a custom legend\n",
    "from matplotlib.patches import Patch\n",
    "legend_elements = [\n",
    "    Patch(facecolor='red', edgecolor='black', label='Severe'),\n",
    "    Patch(facecolor='gold', edgecolor='black', label='Moderate'),\n",
    "    Patch(facecolor='green', edgecolor='black', label='Mild'),\n",
    "    Patch(facecolor='blue', edgecolor='black', label='Healthy'),\n",
    "]\n",
    "\n",
    "# Plot the data\n",
    "fig, ax = plot_distributions(\n",
    "    mjoa_df[mjoa_1year_key], severity_cmap, legend_elements,\n",
    "    'mJOA', 'Pre-Surgical mJOA Scores', 20, flip_mean_rot=True\n",
    ")\n",
    "\n",
    "# Plot the total number of each severity class as text\n",
    "severity_counts = mjoa_df[mjoa_1year_class_key].value_counts()\n",
    "ax.text(9, 3, f\"({severity_counts['Severe']})\", c='black', size=12, horizontalalignment='center')\n",
    "ax.text(13, 34, f\"({severity_counts['Moderate']})\", c='black', size=12, horizontalalignment='center')\n",
    "ax.text(16, 60.5, f\"({severity_counts['Mild']})\", c='black', size=12, horizontalalignment='center')\n",
    "ax.text(18.1, 37, f\"({severity_counts['Healthy']})\", c='black', size=12, horizontalalignment='center')\n",
    "\n",
    "# Save and show the result\n",
    "fig.savefig(mjoa_dist_out_path / 'post_treatment_mjoa.svg')\n",
    "plt.show()"
   ]
  },
  {
   "cell_type": "markdown",
   "id": "0177b28a-7836-490b-82ff-229867f5236e",
   "metadata": {},
   "source": [
    "#### Change (Delta)"
   ]
  },
  {
   "cell_type": "code",
   "execution_count": null,
   "id": "1e718cd9-8d91-4c9a-9f23-d390d636686a",
   "metadata": {},
   "outputs": [],
   "source": [
    "# Define a new color scheme and legend for this new style of data\n",
    "delta_cmap = {\n",
    "    8: 'springgreen',\n",
    "    0: 'white',\n",
    "    -1: 'salmon'\n",
    "}\n",
    "\n",
    "delta_legend_elements = [\n",
    "    Patch(facecolor='springgreen', edgecolor='black', label='Improved'),\n",
    "    Patch(facecolor='white', edgecolor='black', label='No Change'),\n",
    "    Patch(facecolor='salmon', edgecolor='black', label='Declined'),\n",
    "]\n",
    "\n",
    "xticks = (\n",
    "    list(range(-8, 9, 2)),\n",
    "    list(range(-8, 9, 2))\n",
    ")\n",
    "\n",
    "# Plot the data\n",
    "fig, ax = plot_distributions(\n",
    "    mjoa_df[mjoa_delta_key], delta_cmap, delta_legend_elements,\n",
    "    \"mJOA Change\", 'Change in mJOA 1 Year Post-Surgery', 20, flip_mean_rot=True\n",
    ")\n",
    "\n",
    "# Plot the total number of each severity class as text\n",
    "change_counts = pd.cut(\n",
    "    mjoa_df[mjoa_delta_key], \n",
    "    [-20, -1, 0, 20], \n",
    "    labels=['Declined', 'No Change', 'Improved']\n",
    ").value_counts()\n",
    "ax.text(-4.5, 9, f\"({change_counts['Declined']})\", c='black', size=12, verticalalignment='center')\n",
    "ax.text(-0.8, 39, f\"({change_counts['No Change']})\", c='black', size=12, verticalalignment='center')\n",
    "ax.text(4, 32, f\"({change_counts['Improved']})\", c='black', size=12, verticalalignment='center')\n",
    "\n",
    "# Save and show the result\n",
    "fig.savefig(mjoa_dist_out_path / 'treatment_mjoa_delta.svg')\n",
    "plt.show()"
   ]
  },
  {
   "cell_type": "markdown",
   "id": "e7a1cf04-6cb9-4a3c-9dd6-c9a090c38c8e",
   "metadata": {},
   "source": [
    "#### HRR"
   ]
  },
  {
   "cell_type": "code",
   "execution_count": null,
   "id": "89eb4d03-bd0e-415c-9d7f-667a19904ced",
   "metadata": {},
   "outputs": [],
   "source": [
    "from scipy.stats import gaussian_kde\n",
    "\n",
    "# Plot the KDE distribution onto an existing plot\n",
    "def plot_kde(ax, values, c='black', ls='-', label=None):\n",
    "    kde = gaussian_kde(values)\n",
    "    kde.covariance_factor = lambda: 0.15\n",
    "    kde._compute_covariance()\n",
    "    xs = np.linspace(np.min(values), np.max(values), 200)\n",
    "    ys = kde(xs)\n",
    "    ys /= np.linalg.norm(ys)\n",
    "    if label == None:\n",
    "        ax.plot(xs, ys, ls=ls, c=c)\n",
    "    else:\n",
    "        ax.plot(xs, ys, ls=ls, c=c, label=label)\n",
    "\n",
    "# Clean out invalid values from the set\n",
    "def clean_vals(df):\n",
    "    df2 = df[df != -np.inf]\n",
    "    df2 = df2.dropna()\n",
    "    return df2\n",
    "\n",
    "# Adds useful reference lines to the plot\n",
    "def draw_line_references(ax):\n",
    "    # Significant improvement\n",
    "    ax.axvline(0.5, ls='-.', c='grey')\n",
    "    \n",
    "    # Baselines\n",
    "    ax.axhline(0, ls=\":\",  c='lightgrey') \n",
    "    ax.axvline(0, ls=\":\",  c='lightgrey')\n",
    "\n",
    "# The HRR Equation, for immediate reference within the plot\n",
    "hirabayashi_equation = r\"HRR = $\\frac{\\mathrm{mJOA (1 Year)} - \\mathrm{mJOA (Initial)}}{18 - \\mathrm{mJOA (Initial)}}$\""
   ]
  },
  {
   "cell_type": "code",
   "execution_count": null,
   "id": "cdb138ec-edf3-4fca-9d9b-dfd249048919",
   "metadata": {},
   "outputs": [],
   "source": [
    "# Get the HRR for our patients, skipping over initially healthy patients who could not improve whatsoever\n",
    "hrr_df = mjoa_df.loc[mjoa_df[mjoa_initial_class_key] != \"Healthy\", hrr_key]\n",
    "\n",
    "# Generate the initial plot\n",
    "fig, ax = plt.subplots()\n",
    "\n",
    "# Plot our reference lines\n",
    "draw_line_references(ax)\n",
    "\n",
    "# Plot the distributions by their initial severity class\n",
    "plot_kde(\n",
    "    ax, clean_vals(hrr_df[mjoa_df[mjoa_initial_class_key] == 'Severe']), ls='--', c='red', label='Severe'\n",
    ")\n",
    "plot_kde(\n",
    "    ax, clean_vals(hrr_df[mjoa_df[mjoa_initial_class_key] == 'Moderate']), ls='--', c='gold', label='Moderate'\n",
    ")\n",
    "plot_kde(\n",
    "    ax, clean_vals(hrr_df[mjoa_df[mjoa_initial_class_key] == 'Mild']), ls='--', c='green', label='Mild'\n",
    ")\n",
    "\n",
    "# Plot the overall distribution\n",
    "plot_kde(ax, hrr_df, c='blue', label='All')\n",
    "\n",
    "# Calculate the ratio above and below the HRR significance threshold, and add it\n",
    "good_ratio = np.sum(hrr_df >= 0.5)/hrr_df.shape[0]\n",
    "fair_ratio = np.sum(hrr_df < 0.5)/hrr_df.shape[0]\n",
    "\n",
    "ax.text(0.7, 0.238, f\"{good_ratio: .2f}\", c='purple')\n",
    "ax.text(-0.5, 0.238, f\"{fair_ratio: .2f}\", c='purple')\n",
    "\n",
    "# Add axis labels\n",
    "ax.set_xlabel('Hirabayashi Recovery Ratio (HRR)')\n",
    "ax.set_ylabel('Frequency (Kernel Density Estimate)')\n",
    "\n",
    "# Add a legend\n",
    "ax.legend(title='Pre-Surgical DCM Severity')\n",
    "\n",
    "# Add hirabayashi equation directly to plot\n",
    "ax.text(-8, 0.15, hirabayashi_equation)\n",
    "\n",
    "# Add a title\n",
    "ax.set_title(\"Distribution of Hirabayashi Recovery Ratio\")\n",
    "\n",
    "plt.tight_layout()\n",
    "\n",
    "fig.savefig(mjoa_dist_out_path / 'hirabayashi_ratios.svg')\n",
    "\n",
    "plt.show()"
   ]
  },
  {
   "cell_type": "markdown",
   "id": "dfce90cd-4536-40d8-bfe9-0db4c6b00fd3",
   "metadata": {},
   "source": [
    "### "
   ]
  }
 ],
 "metadata": {
  "kernelspec": {
   "display_name": "Python 3 (ipykernel)",
   "language": "python",
   "name": "python3"
  },
  "language_info": {
   "codemirror_mode": {
    "name": "ipython",
    "version": 3
   },
   "file_extension": ".py",
   "mimetype": "text/x-python",
   "name": "python",
   "nbconvert_exporter": "python",
   "pygments_lexer": "ipython3",
   "version": "3.12.10"
  }
 },
 "nbformat": 4,
 "nbformat_minor": 5
}
